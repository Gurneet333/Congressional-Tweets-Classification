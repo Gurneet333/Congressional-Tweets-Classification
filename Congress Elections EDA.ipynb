{
 "cells": [
  {
   "cell_type": "markdown",
   "metadata": {},
   "source": [
    "### Name: Aditya Taori and Gurneet Chhabra\n",
    "### Course Name: Introduction to Statistical Machine Learning\n",
    "### Course Code: DSCC465\n",
    "### Assignment Name: Kaggle Assignment"
   ]
  },
  {
   "cell_type": "markdown",
   "metadata": {},
   "source": [
    "### Importing Libraries"
   ]
  },
  {
   "cell_type": "code",
   "execution_count": 1,
   "metadata": {},
   "outputs": [
    {
     "name": "stderr",
     "output_type": "stream",
     "text": [
      "Using TensorFlow backend.\n"
     ]
    }
   ],
   "source": [
    "import pandas as pd\n",
    "import seaborn as sns\n",
    "from matplotlib import pyplot as plt\n",
    "import re\n",
    "import random\n",
    "from wordcloud import WordCloud\n",
    "from nltk.corpus import stopwords\n",
    "import string\n",
    "from nltk.stem import WordNetLemmatizer\n",
    "from pandas import Series\n",
    "from nltk.probability import FreqDist\n",
    "import math\n",
    "from sklearn.feature_extraction.text import CountVectorizer,TfidfVectorizer\n",
    "from sklearn.linear_model import LogisticRegression\n",
    "from sklearn.model_selection import train_test_split\n",
    "from sklearn.metrics import classification_report, f1_score, accuracy_score, confusion_matrix\n",
    "from sklearn.metrics import roc_curve, auc, roc_auc_score\n",
    "from sklearn.decomposition import PCA,TruncatedSVD\n",
    "from sklearn.naive_bayes import MultinomialNB\n",
    "from nltk.stem import WordNetLemmatizer\n",
    "from sklearn.svm import SVC\n",
    "from sklearn.ensemble import RandomForestClassifier\n",
    "from sklearn import preprocessing\n",
    "import nltk\n",
    "import emoji\n",
    "from pandas import Series\n",
    "from keras.models import Sequential\n",
    "from keras.layers import Dense,SpatialDropout1D\n",
    "from keras.layers import LSTM\n",
    "from keras.layers.embeddings import Embedding\n",
    "from keras.preprocessing import sequence\n",
    "import pandas as pd\n",
    "import random\n",
    "from keras.datasets import imdb\n",
    "from keras.preprocessing.text import Tokenizer\n",
    "from sklearn.model_selection import train_test_split\n",
    "from keras.callbacks import EarlyStopping\n",
    "from sklearn.svm import LinearSVC"
   ]
  },
  {
   "cell_type": "markdown",
   "metadata": {},
   "source": [
    "### Function for creating wordcloud"
   ]
  },
  {
   "cell_type": "code",
   "execution_count": 2,
   "metadata": {},
   "outputs": [],
   "source": [
    "def text_wc(tweets_col,title):\n",
    "    tweets_text = \" \".join(tweets_col.values.tolist())  #Merging all column text into one \n",
    "    \n",
    "    tweet_wc = WordCloud(background_color=\"white\").generate(tweets_text)  #Wordcloud Object\n",
    "\n",
    "    plt.imshow(tweet_wc, interpolation='bilinear')  \n",
    "    plt.axis(\"off\")\n",
    "    plt.title(title)\n",
    "    plt.show()\n",
    "    return plt"
   ]
  },
  {
   "cell_type": "markdown",
   "metadata": {},
   "source": [
    "### Hyper Parameter tuning for Logistic Regression"
   ]
  },
  {
   "cell_type": "code",
   "execution_count": 3,
   "metadata": {},
   "outputs": [],
   "source": [
    "def log_reg_hyper_opt(c_val,solver_val,train_X,train_y,test_X,test_y):\n",
    "    for s in solver_val:\n",
    "        for c in c_val:\n",
    "            print(s,\"\\n\")\n",
    "            print(c,\"\\n\")\n",
    "            lr_clf = LogisticRegression(solver = s,C = c,penalty = 'l2',random_state = 265)\n",
    "            lr_model = lr_clf.fit(train_X,train_y)\n",
    "            lr_predictions = lr_model.predict(test_X)\n",
    "            lr_accuracy = accuracy_score(test_y,lr_predictions)\n",
    "            #y_prob = tfidf_vect_lr_model.predict_proba(test_X)[:,1]\n",
    "            print(\"\\n\",classification_report(test_y,lr_predictions))\n",
    "            print('Confusion Matrix:\\n',confusion_matrix(test_y, lr_predictions))\n",
    "            print(lr_accuracy)"
   ]
  },
  {
   "cell_type": "markdown",
   "metadata": {},
   "source": [
    "### Function for cleaning tweets"
   ]
  },
  {
   "cell_type": "code",
   "execution_count": 4,
   "metadata": {},
   "outputs": [],
   "source": [
    "lemmatizer = WordNetLemmatizer()\n",
    "cachedStopWords = stopwords.words(\"english\")\n",
    "custom_sw = [\"today\",\"thank\",\"thanks\",\"need\",\"small\",\"business\",\"support\",\"help\",\"american\",\"time\",\"day\",\"great\",\"family\",\"community\",\"veteran\",\"year\"\n",
    "             ,\"people\",\"new\",\"work\",\"act\",\"job\",\"#veteran\",\"#family\",\"bill\",\"congress\",\"proud\",\"#job\",\"week\",\"continue\"\n",
    "             ,\"one\",\"state\",\"#american\",\"must\",\"#job\"]\n",
    "cachedStopWords.extend(custom_sw)\n",
    "u = string.punctuation.replace(\"#\",\"\")\n",
    "def clean_tweets(tweets_text,sw_rem):\n",
    "    \n",
    "    tweets_text = re.sub(\"b['\\\"]\",\"\",tweets_text)\n",
    "    tweets_text = re.sub('http\\S+|www\\.\\S+',\"\",tweets_text)\n",
    "    #tweets_text = re.sub('#[A-Za-z0-9]*',\"\",tweets_text)\n",
    "    #tweets_text = re.sub('@[A-Za-z0-9]*',\"\",tweets_text)\n",
    "    tweets_text = re.sub(r'[\\\\]n',\" \",tweets_text)\n",
    "    tweets_text = re.sub(r'[\\\\]x[a-f0-9][a-f0-9]',\"\",tweets_text)\n",
    "    tweets_text = re.sub(r'(&amp;)|RT ',\"\",tweets_text)\n",
    "    if sw_rem==1:\n",
    "        regexes= r'\\b(' + r'|'.join(cachedStopWords) + r')\\b\\s*'\n",
    "        tweets_text = re.sub(regexes,\"\",tweets_text.lower())\n",
    "    new_string = tweets_text.translate(str.maketrans('', '', u))\n",
    "    tokenized_string = new_string.split(\" \")\n",
    "    without_digit = [i for i in tokenized_string if not i.isdigit()]\n",
    "    no_small_words_text = [i for i in without_digit if len(i)>2]  #Removing short characters\n",
    "    \n",
    "    lemmatized_string_list = [lemmatizer.lemmatize(word) for word in no_small_words_text if word!=\"\"]\n",
    "    if len(lemmatized_string_list)==0:\n",
    "        lemmatized_string = \"ret\"\n",
    "    else:\n",
    "        lemmatized_string = \" \".join(lemmatized_string_list)\n",
    "    #lemmatized_string = \" \".join(no_small_words_text)\n",
    "    #print(new_string)\n",
    "    #print(\"\\n\")\n",
    "    return lemmatized_string"
   ]
  },
  {
   "cell_type": "markdown",
   "metadata": {},
   "source": [
    "### Setting up input directories"
   ]
  },
  {
   "cell_type": "code",
   "execution_count": 5,
   "metadata": {},
   "outputs": [],
   "source": [
    "input_dir = \"E:/UOR Notes/Stats for Machine Learning/Assignments/Kaggle Assignment/\"\n",
    "training_input_file = \"congressional_tweet_training_data.csv\"\n",
    "testing_input_file = \"congressional_tweet_test_data.csv\"\n",
    "training_input_path = input_dir+training_input_file\n",
    "testing_input_path = input_dir + testing_input_file\n",
    "random.seed(265)  #Setting random seed"
   ]
  },
  {
   "cell_type": "markdown",
   "metadata": {},
   "source": [
    "### Reading CSV files Tweets Data"
   ]
  },
  {
   "cell_type": "code",
   "execution_count": 6,
   "metadata": {},
   "outputs": [
    {
     "data": {
      "text/html": [
       "<div>\n",
       "<style scoped>\n",
       "    .dataframe tbody tr th:only-of-type {\n",
       "        vertical-align: middle;\n",
       "    }\n",
       "\n",
       "    .dataframe tbody tr th {\n",
       "        vertical-align: top;\n",
       "    }\n",
       "\n",
       "    .dataframe thead th {\n",
       "        text-align: right;\n",
       "    }\n",
       "</style>\n",
       "<table border=\"1\" class=\"dataframe\">\n",
       "  <thead>\n",
       "    <tr style=\"text-align: right;\">\n",
       "      <th></th>\n",
       "      <th>favorite_count</th>\n",
       "      <th>full_text</th>\n",
       "      <th>hashtags</th>\n",
       "      <th>retweet_count</th>\n",
       "      <th>year</th>\n",
       "      <th>party_id</th>\n",
       "    </tr>\n",
       "  </thead>\n",
       "  <tbody>\n",
       "    <tr>\n",
       "      <th>0</th>\n",
       "      <td>0</td>\n",
       "      <td>b\"RT @KUSINews: One of our longtime viewers wa...</td>\n",
       "      <td>KUSI</td>\n",
       "      <td>10</td>\n",
       "      <td>2017.0</td>\n",
       "      <td>R</td>\n",
       "    </tr>\n",
       "    <tr>\n",
       "      <th>1</th>\n",
       "      <td>258</td>\n",
       "      <td>b\"Today I'm urging the @CDCgov to immediately ...</td>\n",
       "      <td>Coronavirus</td>\n",
       "      <td>111</td>\n",
       "      <td>2020.0</td>\n",
       "      <td>R</td>\n",
       "    </tr>\n",
       "    <tr>\n",
       "      <th>2</th>\n",
       "      <td>0</td>\n",
       "      <td>b'Tomorrow, #MO03 seniors graduate from Calvar...</td>\n",
       "      <td>MO03</td>\n",
       "      <td>2</td>\n",
       "      <td>2014.0</td>\n",
       "      <td>R</td>\n",
       "    </tr>\n",
       "    <tr>\n",
       "      <th>3</th>\n",
       "      <td>9</td>\n",
       "      <td>b'Congrats to #TeamUSA and Canton Native @JGre...</td>\n",
       "      <td>TeamUSA WorldJuniors</td>\n",
       "      <td>3</td>\n",
       "      <td>2017.0</td>\n",
       "      <td>R</td>\n",
       "    </tr>\n",
       "    <tr>\n",
       "      <th>4</th>\n",
       "      <td>3</td>\n",
       "      <td>b'Pleased to support @amergateways at their Ju...</td>\n",
       "      <td>ImmigrantHeritageMonth</td>\n",
       "      <td>3</td>\n",
       "      <td>2019.0</td>\n",
       "      <td>D</td>\n",
       "    </tr>\n",
       "  </tbody>\n",
       "</table>\n",
       "</div>"
      ],
      "text/plain": [
       "   favorite_count                                          full_text  \\\n",
       "0               0  b\"RT @KUSINews: One of our longtime viewers wa...   \n",
       "1             258  b\"Today I'm urging the @CDCgov to immediately ...   \n",
       "2               0  b'Tomorrow, #MO03 seniors graduate from Calvar...   \n",
       "3               9  b'Congrats to #TeamUSA and Canton Native @JGre...   \n",
       "4               3  b'Pleased to support @amergateways at their Ju...   \n",
       "\n",
       "                 hashtags  retweet_count    year party_id  \n",
       "0                    KUSI             10  2017.0        R  \n",
       "1             Coronavirus            111  2020.0        R  \n",
       "2                    MO03              2  2014.0        R  \n",
       "3    TeamUSA WorldJuniors              3  2017.0        R  \n",
       "4  ImmigrantHeritageMonth              3  2019.0        D  "
      ]
     },
     "execution_count": 6,
     "metadata": {},
     "output_type": "execute_result"
    }
   ],
   "source": [
    "cong_tweets_data = pd.read_csv(training_input_path)  #Reading input file \n",
    "cong_tweets_data.head()  #Printing top 5 rows "
   ]
  },
  {
   "cell_type": "code",
   "execution_count": 7,
   "metadata": {},
   "outputs": [
    {
     "data": {
      "text/plain": [
       "(592803, 6)"
      ]
     },
     "execution_count": 7,
     "metadata": {},
     "output_type": "execute_result"
    }
   ],
   "source": [
    "cong_tweets_data.shape  #Printing Shape of Dataframe"
   ]
  },
  {
   "cell_type": "code",
   "execution_count": 8,
   "metadata": {},
   "outputs": [
    {
     "data": {
      "text/plain": [
       "favorite_count        0\n",
       "full_text             0\n",
       "hashtags              0\n",
       "retweet_count         0\n",
       "year              18712\n",
       "party_id              0\n",
       "dtype: int64"
      ]
     },
     "execution_count": 8,
     "metadata": {},
     "output_type": "execute_result"
    }
   ],
   "source": [
    "cong_tweets_data.isna().sum()  #Checking for NA values in dataframe"
   ]
  },
  {
   "cell_type": "markdown",
   "metadata": {},
   "source": [
    "### Reading CSV files Tweets Data"
   ]
  },
  {
   "cell_type": "code",
   "execution_count": 9,
   "metadata": {},
   "outputs": [
    {
     "data": {
      "text/html": [
       "<div>\n",
       "<style scoped>\n",
       "    .dataframe tbody tr th:only-of-type {\n",
       "        vertical-align: middle;\n",
       "    }\n",
       "\n",
       "    .dataframe tbody tr th {\n",
       "        vertical-align: top;\n",
       "    }\n",
       "\n",
       "    .dataframe thead th {\n",
       "        text-align: right;\n",
       "    }\n",
       "</style>\n",
       "<table border=\"1\" class=\"dataframe\">\n",
       "  <thead>\n",
       "    <tr style=\"text-align: right;\">\n",
       "      <th></th>\n",
       "      <th>Id</th>\n",
       "      <th>favorite_count</th>\n",
       "      <th>full_text</th>\n",
       "      <th>hashtags</th>\n",
       "      <th>retweet_count</th>\n",
       "      <th>year</th>\n",
       "      <th>party</th>\n",
       "    </tr>\n",
       "  </thead>\n",
       "  <tbody>\n",
       "    <tr>\n",
       "      <th>0</th>\n",
       "      <td>0</td>\n",
       "      <td>70</td>\n",
       "      <td>b'#TaxReform improved the playing field for Am...</td>\n",
       "      <td>TaxReform</td>\n",
       "      <td>13</td>\n",
       "      <td>2018.0</td>\n",
       "      <td>D</td>\n",
       "    </tr>\n",
       "    <tr>\n",
       "      <th>1</th>\n",
       "      <td>1</td>\n",
       "      <td>27</td>\n",
       "      <td>b'This #NativeWomensEqualPay Day, we recommit ...</td>\n",
       "      <td>NativeWomensEqualPay</td>\n",
       "      <td>11</td>\n",
       "      <td>NaN</td>\n",
       "      <td>D</td>\n",
       "    </tr>\n",
       "    <tr>\n",
       "      <th>2</th>\n",
       "      <td>2</td>\n",
       "      <td>49</td>\n",
       "      <td>b\"\\xe2\\x80\\x9cI became convinced that our gene...</td>\n",
       "      <td>MeToo ShatteringTheSilence</td>\n",
       "      <td>24</td>\n",
       "      <td>2017.0</td>\n",
       "      <td>D</td>\n",
       "    </tr>\n",
       "    <tr>\n",
       "      <th>3</th>\n",
       "      <td>3</td>\n",
       "      <td>14</td>\n",
       "      <td>b'During #NationalAdoptionMonth, we honor the ...</td>\n",
       "      <td>NationalAdoptionMonth</td>\n",
       "      <td>2</td>\n",
       "      <td>2019.0</td>\n",
       "      <td>D</td>\n",
       "    </tr>\n",
       "    <tr>\n",
       "      <th>4</th>\n",
       "      <td>4</td>\n",
       "      <td>13</td>\n",
       "      <td>b'Happy #AirborneDay to our @USArmy paratroope...</td>\n",
       "      <td>AirborneDay AirborneAllTheWay</td>\n",
       "      <td>7</td>\n",
       "      <td>2018.0</td>\n",
       "      <td>D</td>\n",
       "    </tr>\n",
       "  </tbody>\n",
       "</table>\n",
       "</div>"
      ],
      "text/plain": [
       "   Id  favorite_count                                          full_text  \\\n",
       "0   0              70  b'#TaxReform improved the playing field for Am...   \n",
       "1   1              27  b'This #NativeWomensEqualPay Day, we recommit ...   \n",
       "2   2              49  b\"\\xe2\\x80\\x9cI became convinced that our gene...   \n",
       "3   3              14  b'During #NationalAdoptionMonth, we honor the ...   \n",
       "4   4              13  b'Happy #AirborneDay to our @USArmy paratroope...   \n",
       "\n",
       "                        hashtags  retweet_count    year party  \n",
       "0                      TaxReform             13  2018.0     D  \n",
       "1           NativeWomensEqualPay             11     NaN     D  \n",
       "2     MeToo ShatteringTheSilence             24  2017.0     D  \n",
       "3          NationalAdoptionMonth              2  2019.0     D  \n",
       "4  AirborneDay AirborneAllTheWay              7  2018.0     D  "
      ]
     },
     "execution_count": 9,
     "metadata": {},
     "output_type": "execute_result"
    }
   ],
   "source": [
    "cong_testing_data = pd.read_csv(testing_input_path)\n",
    "cong_testing_data.head()"
   ]
  },
  {
   "cell_type": "code",
   "execution_count": 10,
   "metadata": {},
   "outputs": [
    {
     "data": {
      "text/plain": [
       "Id                   0\n",
       "favorite_count       0\n",
       "full_text            0\n",
       "hashtags             0\n",
       "retweet_count        0\n",
       "year              8347\n",
       "party                0\n",
       "dtype: int64"
      ]
     },
     "execution_count": 10,
     "metadata": {},
     "output_type": "execute_result"
    }
   ],
   "source": [
    "cong_testing_data.isna().sum()"
   ]
  },
  {
   "cell_type": "code",
   "execution_count": 11,
   "metadata": {},
   "outputs": [
    {
     "data": {
      "text/html": [
       "<div>\n",
       "<style scoped>\n",
       "    .dataframe tbody tr th:only-of-type {\n",
       "        vertical-align: middle;\n",
       "    }\n",
       "\n",
       "    .dataframe tbody tr th {\n",
       "        vertical-align: top;\n",
       "    }\n",
       "\n",
       "    .dataframe thead th {\n",
       "        text-align: right;\n",
       "    }\n",
       "</style>\n",
       "<table border=\"1\" class=\"dataframe\">\n",
       "  <thead>\n",
       "    <tr style=\"text-align: right;\">\n",
       "      <th></th>\n",
       "      <th>favorite_count</th>\n",
       "      <th>full_text</th>\n",
       "      <th>hashtags</th>\n",
       "      <th>retweet_count</th>\n",
       "      <th>year</th>\n",
       "      <th>party_id</th>\n",
       "      <th>Cleaned_Text_With_Stopwords</th>\n",
       "    </tr>\n",
       "  </thead>\n",
       "  <tbody>\n",
       "    <tr>\n",
       "      <th>0</th>\n",
       "      <td>0</td>\n",
       "      <td>b\"RT @KUSINews: One of our longtime viewers wa...</td>\n",
       "      <td>KUSI</td>\n",
       "      <td>10</td>\n",
       "      <td>2017.0</td>\n",
       "      <td>R</td>\n",
       "      <td>KUSINews One our longtime viewer wa Congressma...</td>\n",
       "    </tr>\n",
       "    <tr>\n",
       "      <th>1</th>\n",
       "      <td>258</td>\n",
       "      <td>b\"Today I'm urging the @CDCgov to immediately ...</td>\n",
       "      <td>Coronavirus</td>\n",
       "      <td>111</td>\n",
       "      <td>2020.0</td>\n",
       "      <td>R</td>\n",
       "      <td>Today urging the CDCgov immediately launch pho...</td>\n",
       "    </tr>\n",
       "    <tr>\n",
       "      <th>2</th>\n",
       "      <td>0</td>\n",
       "      <td>b'Tomorrow, #MO03 seniors graduate from Calvar...</td>\n",
       "      <td>MO03</td>\n",
       "      <td>2</td>\n",
       "      <td>2014.0</td>\n",
       "      <td>R</td>\n",
       "      <td>Tomorrow #MO03 senior graduate from Calvary Lu...</td>\n",
       "    </tr>\n",
       "    <tr>\n",
       "      <th>3</th>\n",
       "      <td>9</td>\n",
       "      <td>b'Congrats to #TeamUSA and Canton Native @JGre...</td>\n",
       "      <td>TeamUSA WorldJuniors</td>\n",
       "      <td>3</td>\n",
       "      <td>2017.0</td>\n",
       "      <td>R</td>\n",
       "      <td>Congrats #TeamUSA and Canton Native JGreenway1...</td>\n",
       "    </tr>\n",
       "    <tr>\n",
       "      <th>4</th>\n",
       "      <td>3</td>\n",
       "      <td>b'Pleased to support @amergateways at their Ju...</td>\n",
       "      <td>ImmigrantHeritageMonth</td>\n",
       "      <td>3</td>\n",
       "      <td>2019.0</td>\n",
       "      <td>D</td>\n",
       "      <td>Pleased support amergateways their June Fiesta...</td>\n",
       "    </tr>\n",
       "  </tbody>\n",
       "</table>\n",
       "</div>"
      ],
      "text/plain": [
       "   favorite_count                                          full_text  \\\n",
       "0               0  b\"RT @KUSINews: One of our longtime viewers wa...   \n",
       "1             258  b\"Today I'm urging the @CDCgov to immediately ...   \n",
       "2               0  b'Tomorrow, #MO03 seniors graduate from Calvar...   \n",
       "3               9  b'Congrats to #TeamUSA and Canton Native @JGre...   \n",
       "4               3  b'Pleased to support @amergateways at their Ju...   \n",
       "\n",
       "                 hashtags  retweet_count    year party_id  \\\n",
       "0                    KUSI             10  2017.0        R   \n",
       "1             Coronavirus            111  2020.0        R   \n",
       "2                    MO03              2  2014.0        R   \n",
       "3    TeamUSA WorldJuniors              3  2017.0        R   \n",
       "4  ImmigrantHeritageMonth              3  2019.0        D   \n",
       "\n",
       "                         Cleaned_Text_With_Stopwords  \n",
       "0  KUSINews One our longtime viewer wa Congressma...  \n",
       "1  Today urging the CDCgov immediately launch pho...  \n",
       "2  Tomorrow #MO03 senior graduate from Calvary Lu...  \n",
       "3  Congrats #TeamUSA and Canton Native JGreenway1...  \n",
       "4  Pleased support amergateways their June Fiesta...  "
      ]
     },
     "execution_count": 11,
     "metadata": {},
     "output_type": "execute_result"
    }
   ],
   "source": [
    "#Cleaning Tweets without removing stopwords \n",
    "cong_tweets_data[\"Cleaned_Text_With_Stopwords\"] = cong_tweets_data.apply(lambda x:clean_tweets(x['full_text'],0),axis=1)  \n",
    "cong_tweets_data.head()"
   ]
  },
  {
   "cell_type": "code",
   "execution_count": 12,
   "metadata": {},
   "outputs": [
    {
     "data": {
      "text/html": [
       "<div>\n",
       "<style scoped>\n",
       "    .dataframe tbody tr th:only-of-type {\n",
       "        vertical-align: middle;\n",
       "    }\n",
       "\n",
       "    .dataframe tbody tr th {\n",
       "        vertical-align: top;\n",
       "    }\n",
       "\n",
       "    .dataframe thead th {\n",
       "        text-align: right;\n",
       "    }\n",
       "</style>\n",
       "<table border=\"1\" class=\"dataframe\">\n",
       "  <thead>\n",
       "    <tr style=\"text-align: right;\">\n",
       "      <th></th>\n",
       "      <th>favorite_count</th>\n",
       "      <th>full_text</th>\n",
       "      <th>hashtags</th>\n",
       "      <th>retweet_count</th>\n",
       "      <th>year</th>\n",
       "      <th>party_id</th>\n",
       "      <th>Cleaned_Text_With_Stopwords</th>\n",
       "      <th>Cleaned_Text_WO_Stopwords</th>\n",
       "    </tr>\n",
       "  </thead>\n",
       "  <tbody>\n",
       "    <tr>\n",
       "      <th>0</th>\n",
       "      <td>0</td>\n",
       "      <td>b\"RT @KUSINews: One of our longtime viewers wa...</td>\n",
       "      <td>KUSI</td>\n",
       "      <td>10</td>\n",
       "      <td>2017.0</td>\n",
       "      <td>R</td>\n",
       "      <td>KUSINews One our longtime viewer wa Congressma...</td>\n",
       "      <td>kusinews longtime viewer congressman darrellis...</td>\n",
       "    </tr>\n",
       "    <tr>\n",
       "      <th>1</th>\n",
       "      <td>258</td>\n",
       "      <td>b\"Today I'm urging the @CDCgov to immediately ...</td>\n",
       "      <td>Coronavirus</td>\n",
       "      <td>111</td>\n",
       "      <td>2020.0</td>\n",
       "      <td>R</td>\n",
       "      <td>Today urging the CDCgov immediately launch pho...</td>\n",
       "      <td>urging cdcgov immediately launch phone hotline...</td>\n",
       "    </tr>\n",
       "    <tr>\n",
       "      <th>2</th>\n",
       "      <td>0</td>\n",
       "      <td>b'Tomorrow, #MO03 seniors graduate from Calvar...</td>\n",
       "      <td>MO03</td>\n",
       "      <td>2</td>\n",
       "      <td>2014.0</td>\n",
       "      <td>R</td>\n",
       "      <td>Tomorrow #MO03 senior graduate from Calvary Lu...</td>\n",
       "      <td>tomorrow #mo03 senior graduate calvary luthera...</td>\n",
       "    </tr>\n",
       "    <tr>\n",
       "      <th>3</th>\n",
       "      <td>9</td>\n",
       "      <td>b'Congrats to #TeamUSA and Canton Native @JGre...</td>\n",
       "      <td>TeamUSA WorldJuniors</td>\n",
       "      <td>3</td>\n",
       "      <td>2017.0</td>\n",
       "      <td>R</td>\n",
       "      <td>Congrats #TeamUSA and Canton Native JGreenway1...</td>\n",
       "      <td>congrats #teamusa canton native jgreenway12 wi...</td>\n",
       "    </tr>\n",
       "    <tr>\n",
       "      <th>4</th>\n",
       "      <td>3</td>\n",
       "      <td>b'Pleased to support @amergateways at their Ju...</td>\n",
       "      <td>ImmigrantHeritageMonth</td>\n",
       "      <td>3</td>\n",
       "      <td>2019.0</td>\n",
       "      <td>D</td>\n",
       "      <td>Pleased support amergateways their June Fiesta...</td>\n",
       "      <td>pleased amergateways june fiesta honored #immi...</td>\n",
       "    </tr>\n",
       "  </tbody>\n",
       "</table>\n",
       "</div>"
      ],
      "text/plain": [
       "   favorite_count                                          full_text  \\\n",
       "0               0  b\"RT @KUSINews: One of our longtime viewers wa...   \n",
       "1             258  b\"Today I'm urging the @CDCgov to immediately ...   \n",
       "2               0  b'Tomorrow, #MO03 seniors graduate from Calvar...   \n",
       "3               9  b'Congrats to #TeamUSA and Canton Native @JGre...   \n",
       "4               3  b'Pleased to support @amergateways at their Ju...   \n",
       "\n",
       "                 hashtags  retweet_count    year party_id  \\\n",
       "0                    KUSI             10  2017.0        R   \n",
       "1             Coronavirus            111  2020.0        R   \n",
       "2                    MO03              2  2014.0        R   \n",
       "3    TeamUSA WorldJuniors              3  2017.0        R   \n",
       "4  ImmigrantHeritageMonth              3  2019.0        D   \n",
       "\n",
       "                         Cleaned_Text_With_Stopwords  \\\n",
       "0  KUSINews One our longtime viewer wa Congressma...   \n",
       "1  Today urging the CDCgov immediately launch pho...   \n",
       "2  Tomorrow #MO03 senior graduate from Calvary Lu...   \n",
       "3  Congrats #TeamUSA and Canton Native JGreenway1...   \n",
       "4  Pleased support amergateways their June Fiesta...   \n",
       "\n",
       "                           Cleaned_Text_WO_Stopwords  \n",
       "0  kusinews longtime viewer congressman darrellis...  \n",
       "1  urging cdcgov immediately launch phone hotline...  \n",
       "2  tomorrow #mo03 senior graduate calvary luthera...  \n",
       "3  congrats #teamusa canton native jgreenway12 wi...  \n",
       "4  pleased amergateways june fiesta honored #immi...  "
      ]
     },
     "execution_count": 12,
     "metadata": {},
     "output_type": "execute_result"
    }
   ],
   "source": [
    "#Cleaning Tweets and removing stopwords\n",
    "cong_tweets_data[\"Cleaned_Text_WO_Stopwords\"] = cong_tweets_data.apply(lambda x:clean_tweets(x['full_text'],1),axis=1)\n",
    "cong_tweets_data.head()"
   ]
  },
  {
   "cell_type": "code",
   "execution_count": 13,
   "metadata": {},
   "outputs": [],
   "source": [
    "len_tweets = cong_tweets_data[\"full_text\"].apply(len)  #Finding length of Full Text\n",
    "cong_tweets_data[\"Tweets_Length\"] = len_tweets  "
   ]
  },
  {
   "cell_type": "code",
   "execution_count": 14,
   "metadata": {},
   "outputs": [],
   "source": [
    "len_clean_tweets = cong_tweets_data[\"Cleaned_Text_With_Stopwords\"].apply(len) #Finding length of cleaned text with Stopwords\n",
    "cong_tweets_data[\"Cleaned_Tweets_With_SW_Length\"] = len_clean_tweets"
   ]
  },
  {
   "cell_type": "code",
   "execution_count": 15,
   "metadata": {},
   "outputs": [],
   "source": [
    "len_clean_tweets_wo_sw = cong_tweets_data[\"Cleaned_Text_WO_Stopwords\"].apply(len)  #Finding length of cleaned text without Stopwords\n",
    "cong_tweets_data[\"Cleaned_Tweets_WO_Stopwords_Length\"] = len_clean_tweets_wo_sw"
   ]
  },
  {
   "cell_type": "code",
   "execution_count": 16,
   "metadata": {},
   "outputs": [
    {
     "data": {
      "text/html": [
       "<div>\n",
       "<style scoped>\n",
       "    .dataframe tbody tr th:only-of-type {\n",
       "        vertical-align: middle;\n",
       "    }\n",
       "\n",
       "    .dataframe tbody tr th {\n",
       "        vertical-align: top;\n",
       "    }\n",
       "\n",
       "    .dataframe thead th {\n",
       "        text-align: right;\n",
       "    }\n",
       "</style>\n",
       "<table border=\"1\" class=\"dataframe\">\n",
       "  <thead>\n",
       "    <tr style=\"text-align: right;\">\n",
       "      <th></th>\n",
       "      <th>favorite_count</th>\n",
       "      <th>full_text</th>\n",
       "      <th>hashtags</th>\n",
       "      <th>retweet_count</th>\n",
       "      <th>year</th>\n",
       "      <th>party_id</th>\n",
       "      <th>Cleaned_Text_With_Stopwords</th>\n",
       "      <th>Cleaned_Text_WO_Stopwords</th>\n",
       "      <th>Tweets_Length</th>\n",
       "      <th>Cleaned_Tweets_With_SW_Length</th>\n",
       "      <th>Cleaned_Tweets_WO_Stopwords_Length</th>\n",
       "      <th>Full_Text_Words</th>\n",
       "      <th>Words_Cleaned_Text_With_Stopwords</th>\n",
       "      <th>Words_Cleaned_Text_Without_Stopwords</th>\n",
       "    </tr>\n",
       "  </thead>\n",
       "  <tbody>\n",
       "    <tr>\n",
       "      <th>0</th>\n",
       "      <td>0</td>\n",
       "      <td>b\"RT @KUSINews: One of our longtime viewers wa...</td>\n",
       "      <td>KUSI</td>\n",
       "      <td>10</td>\n",
       "      <td>2017.0</td>\n",
       "      <td>R</td>\n",
       "      <td>KUSINews One our longtime viewer wa Congressma...</td>\n",
       "      <td>kusinews longtime viewer congressman darrellis...</td>\n",
       "      <td>154</td>\n",
       "      <td>111</td>\n",
       "      <td>79</td>\n",
       "      <td>24</td>\n",
       "      <td>17</td>\n",
       "      <td>9</td>\n",
       "    </tr>\n",
       "    <tr>\n",
       "      <th>1</th>\n",
       "      <td>258</td>\n",
       "      <td>b\"Today I'm urging the @CDCgov to immediately ...</td>\n",
       "      <td>Coronavirus</td>\n",
       "      <td>111</td>\n",
       "      <td>2020.0</td>\n",
       "      <td>R</td>\n",
       "      <td>Today urging the CDCgov immediately launch pho...</td>\n",
       "      <td>urging cdcgov immediately launch phone hotline...</td>\n",
       "      <td>317</td>\n",
       "      <td>239</td>\n",
       "      <td>196</td>\n",
       "      <td>44</td>\n",
       "      <td>34</td>\n",
       "      <td>26</td>\n",
       "    </tr>\n",
       "    <tr>\n",
       "      <th>2</th>\n",
       "      <td>0</td>\n",
       "      <td>b'Tomorrow, #MO03 seniors graduate from Calvar...</td>\n",
       "      <td>MO03</td>\n",
       "      <td>2</td>\n",
       "      <td>2014.0</td>\n",
       "      <td>R</td>\n",
       "      <td>Tomorrow #MO03 senior graduate from Calvary Lu...</td>\n",
       "      <td>tomorrow #mo03 senior graduate calvary luthera...</td>\n",
       "      <td>140</td>\n",
       "      <td>110</td>\n",
       "      <td>101</td>\n",
       "      <td>21</td>\n",
       "      <td>16</td>\n",
       "      <td>14</td>\n",
       "    </tr>\n",
       "    <tr>\n",
       "      <th>3</th>\n",
       "      <td>9</td>\n",
       "      <td>b'Congrats to #TeamUSA and Canton Native @JGre...</td>\n",
       "      <td>TeamUSA WorldJuniors</td>\n",
       "      <td>3</td>\n",
       "      <td>2017.0</td>\n",
       "      <td>R</td>\n",
       "      <td>Congrats #TeamUSA and Canton Native JGreenway1...</td>\n",
       "      <td>congrats #teamusa canton native jgreenway12 wi...</td>\n",
       "      <td>130</td>\n",
       "      <td>95</td>\n",
       "      <td>87</td>\n",
       "      <td>16</td>\n",
       "      <td>13</td>\n",
       "      <td>11</td>\n",
       "    </tr>\n",
       "    <tr>\n",
       "      <th>4</th>\n",
       "      <td>3</td>\n",
       "      <td>b'Pleased to support @amergateways at their Ju...</td>\n",
       "      <td>ImmigrantHeritageMonth</td>\n",
       "      <td>3</td>\n",
       "      <td>2019.0</td>\n",
       "      <td>D</td>\n",
       "      <td>Pleased support amergateways their June Fiesta...</td>\n",
       "      <td>pleased amergateways june fiesta honored #immi...</td>\n",
       "      <td>316</td>\n",
       "      <td>245</td>\n",
       "      <td>204</td>\n",
       "      <td>39</td>\n",
       "      <td>30</td>\n",
       "      <td>23</td>\n",
       "    </tr>\n",
       "    <tr>\n",
       "      <th>...</th>\n",
       "      <td>...</td>\n",
       "      <td>...</td>\n",
       "      <td>...</td>\n",
       "      <td>...</td>\n",
       "      <td>...</td>\n",
       "      <td>...</td>\n",
       "      <td>...</td>\n",
       "      <td>...</td>\n",
       "      <td>...</td>\n",
       "      <td>...</td>\n",
       "      <td>...</td>\n",
       "      <td>...</td>\n",
       "      <td>...</td>\n",
       "      <td>...</td>\n",
       "    </tr>\n",
       "    <tr>\n",
       "      <th>592798</th>\n",
       "      <td>3</td>\n",
       "      <td>b'This time, it focused on careers in #publics...</td>\n",
       "      <td>publicservice publicsafety</td>\n",
       "      <td>0</td>\n",
       "      <td>2017.0</td>\n",
       "      <td>R</td>\n",
       "      <td>This time focused career #publicservice and #p...</td>\n",
       "      <td>focused career #publicservice #publicsafety</td>\n",
       "      <td>96</td>\n",
       "      <td>57</td>\n",
       "      <td>43</td>\n",
       "      <td>11</td>\n",
       "      <td>7</td>\n",
       "      <td>4</td>\n",
       "    </tr>\n",
       "    <tr>\n",
       "      <th>592799</th>\n",
       "      <td>5</td>\n",
       "      <td>b'.#StormyDaniels, #MichaelWolfe, #JamesComey ...</td>\n",
       "      <td>StormyDaniels MichaelWolfe JamesComey</td>\n",
       "      <td>1</td>\n",
       "      <td>2018.0</td>\n",
       "      <td>R</td>\n",
       "      <td>#StormyDaniels #MichaelWolfe #JamesComey Makin...</td>\n",
       "      <td>#stormydaniels #michaelwolfe #jamescomey makin...</td>\n",
       "      <td>101</td>\n",
       "      <td>67</td>\n",
       "      <td>51</td>\n",
       "      <td>9</td>\n",
       "      <td>8</td>\n",
       "      <td>5</td>\n",
       "    </tr>\n",
       "    <tr>\n",
       "      <th>592800</th>\n",
       "      <td>33</td>\n",
       "      <td>b'@NRDems The American people deserve the trut...</td>\n",
       "      <td>CultureOfCorruption</td>\n",
       "      <td>14</td>\n",
       "      <td>2020.0</td>\n",
       "      <td>D</td>\n",
       "      <td>NRDems The American people deserve the truth a...</td>\n",
       "      <td>nrdems deserve truth deserves information requ...</td>\n",
       "      <td>284</td>\n",
       "      <td>221</td>\n",
       "      <td>129</td>\n",
       "      <td>40</td>\n",
       "      <td>33</td>\n",
       "      <td>15</td>\n",
       "    </tr>\n",
       "    <tr>\n",
       "      <th>592801</th>\n",
       "      <td>4</td>\n",
       "      <td>b'Only 2 weeks left to submit your #app to the...</td>\n",
       "      <td>app copolitics CAC16 HouseOfCode co06</td>\n",
       "      <td>3</td>\n",
       "      <td>2016.0</td>\n",
       "      <td>R</td>\n",
       "      <td>Only week left submit your #app the Congressio...</td>\n",
       "      <td>week left submit #app congressional app challe...</td>\n",
       "      <td>138</td>\n",
       "      <td>101</td>\n",
       "      <td>87</td>\n",
       "      <td>18</td>\n",
       "      <td>14</td>\n",
       "      <td>11</td>\n",
       "    </tr>\n",
       "    <tr>\n",
       "      <th>592802</th>\n",
       "      <td>155</td>\n",
       "      <td>b'The #MuslimBan remains as un-American and of...</td>\n",
       "      <td>MuslimBan</td>\n",
       "      <td>48</td>\n",
       "      <td>2020.0</td>\n",
       "      <td>D</td>\n",
       "      <td>The #MuslimBan remains unAmerican and offensiv...</td>\n",
       "      <td>#muslimban remains unoffensive trump announced...</td>\n",
       "      <td>221</td>\n",
       "      <td>192</td>\n",
       "      <td>118</td>\n",
       "      <td>37</td>\n",
       "      <td>30</td>\n",
       "      <td>16</td>\n",
       "    </tr>\n",
       "  </tbody>\n",
       "</table>\n",
       "<p>592803 rows × 14 columns</p>\n",
       "</div>"
      ],
      "text/plain": [
       "        favorite_count                                          full_text  \\\n",
       "0                    0  b\"RT @KUSINews: One of our longtime viewers wa...   \n",
       "1                  258  b\"Today I'm urging the @CDCgov to immediately ...   \n",
       "2                    0  b'Tomorrow, #MO03 seniors graduate from Calvar...   \n",
       "3                    9  b'Congrats to #TeamUSA and Canton Native @JGre...   \n",
       "4                    3  b'Pleased to support @amergateways at their Ju...   \n",
       "...                ...                                                ...   \n",
       "592798               3  b'This time, it focused on careers in #publics...   \n",
       "592799               5  b'.#StormyDaniels, #MichaelWolfe, #JamesComey ...   \n",
       "592800              33  b'@NRDems The American people deserve the trut...   \n",
       "592801               4  b'Only 2 weeks left to submit your #app to the...   \n",
       "592802             155  b'The #MuslimBan remains as un-American and of...   \n",
       "\n",
       "                                     hashtags  retweet_count    year party_id  \\\n",
       "0                                        KUSI             10  2017.0        R   \n",
       "1                                 Coronavirus            111  2020.0        R   \n",
       "2                                        MO03              2  2014.0        R   \n",
       "3                        TeamUSA WorldJuniors              3  2017.0        R   \n",
       "4                      ImmigrantHeritageMonth              3  2019.0        D   \n",
       "...                                       ...            ...     ...      ...   \n",
       "592798             publicservice publicsafety              0  2017.0        R   \n",
       "592799  StormyDaniels MichaelWolfe JamesComey              1  2018.0        R   \n",
       "592800                    CultureOfCorruption             14  2020.0        D   \n",
       "592801  app copolitics CAC16 HouseOfCode co06              3  2016.0        R   \n",
       "592802                              MuslimBan             48  2020.0        D   \n",
       "\n",
       "                              Cleaned_Text_With_Stopwords  \\\n",
       "0       KUSINews One our longtime viewer wa Congressma...   \n",
       "1       Today urging the CDCgov immediately launch pho...   \n",
       "2       Tomorrow #MO03 senior graduate from Calvary Lu...   \n",
       "3       Congrats #TeamUSA and Canton Native JGreenway1...   \n",
       "4       Pleased support amergateways their June Fiesta...   \n",
       "...                                                   ...   \n",
       "592798  This time focused career #publicservice and #p...   \n",
       "592799  #StormyDaniels #MichaelWolfe #JamesComey Makin...   \n",
       "592800  NRDems The American people deserve the truth a...   \n",
       "592801  Only week left submit your #app the Congressio...   \n",
       "592802  The #MuslimBan remains unAmerican and offensiv...   \n",
       "\n",
       "                                Cleaned_Text_WO_Stopwords  Tweets_Length  \\\n",
       "0       kusinews longtime viewer congressman darrellis...            154   \n",
       "1       urging cdcgov immediately launch phone hotline...            317   \n",
       "2       tomorrow #mo03 senior graduate calvary luthera...            140   \n",
       "3       congrats #teamusa canton native jgreenway12 wi...            130   \n",
       "4       pleased amergateways june fiesta honored #immi...            316   \n",
       "...                                                   ...            ...   \n",
       "592798        focused career #publicservice #publicsafety             96   \n",
       "592799  #stormydaniels #michaelwolfe #jamescomey makin...            101   \n",
       "592800  nrdems deserve truth deserves information requ...            284   \n",
       "592801  week left submit #app congressional app challe...            138   \n",
       "592802  #muslimban remains unoffensive trump announced...            221   \n",
       "\n",
       "        Cleaned_Tweets_With_SW_Length  Cleaned_Tweets_WO_Stopwords_Length  \\\n",
       "0                                 111                                  79   \n",
       "1                                 239                                 196   \n",
       "2                                 110                                 101   \n",
       "3                                  95                                  87   \n",
       "4                                 245                                 204   \n",
       "...                               ...                                 ...   \n",
       "592798                             57                                  43   \n",
       "592799                             67                                  51   \n",
       "592800                            221                                 129   \n",
       "592801                            101                                  87   \n",
       "592802                            192                                 118   \n",
       "\n",
       "        Full_Text_Words  Words_Cleaned_Text_With_Stopwords  \\\n",
       "0                    24                                 17   \n",
       "1                    44                                 34   \n",
       "2                    21                                 16   \n",
       "3                    16                                 13   \n",
       "4                    39                                 30   \n",
       "...                 ...                                ...   \n",
       "592798               11                                  7   \n",
       "592799                9                                  8   \n",
       "592800               40                                 33   \n",
       "592801               18                                 14   \n",
       "592802               37                                 30   \n",
       "\n",
       "        Words_Cleaned_Text_Without_Stopwords  \n",
       "0                                          9  \n",
       "1                                         26  \n",
       "2                                         14  \n",
       "3                                         11  \n",
       "4                                         23  \n",
       "...                                      ...  \n",
       "592798                                     4  \n",
       "592799                                     5  \n",
       "592800                                    15  \n",
       "592801                                    11  \n",
       "592802                                    16  \n",
       "\n",
       "[592803 rows x 14 columns]"
      ]
     },
     "execution_count": 16,
     "metadata": {},
     "output_type": "execute_result"
    }
   ],
   "source": [
    "#finding number of words \n",
    "cong_tweets_data[\"Full_Text_Words\"]  = cong_tweets_data[\"full_text\"].apply(lambda x: len(x.split()))\n",
    "cong_tweets_data[\"Words_Cleaned_Text_With_Stopwords\"]  = cong_tweets_data[\"Cleaned_Text_With_Stopwords\"].apply(lambda x: len(x.split()))\n",
    "cong_tweets_data[\"Words_Cleaned_Text_Without_Stopwords\"]  = cong_tweets_data[\"Cleaned_Text_WO_Stopwords\"].apply(lambda x: len(x.split()))\n",
    "cong_tweets_data"
   ]
  },
  {
   "cell_type": "code",
   "execution_count": 17,
   "metadata": {},
   "outputs": [],
   "source": [
    "words_clean_tweets = cong_tweets_data"
   ]
  },
  {
   "cell_type": "code",
   "execution_count": 18,
   "metadata": {},
   "outputs": [
    {
     "data": {
      "text/plain": [
       "D    324202\n",
       "R    268601\n",
       "Name: party_id, dtype: int64"
      ]
     },
     "execution_count": 18,
     "metadata": {},
     "output_type": "execute_result"
    }
   ],
   "source": [
    "cong_tweets_data['party_id'].value_counts() #Finding party id distribution"
   ]
  },
  {
   "cell_type": "code",
   "execution_count": 19,
   "metadata": {},
   "outputs": [
    {
     "name": "stderr",
     "output_type": "stream",
     "text": [
      "C:\\Users\\DELL\\Anaconda3\\lib\\site-packages\\seaborn\\_decorators.py:43: FutureWarning: Pass the following variable as a keyword arg: x. From version 0.12, the only valid positional argument will be `data`, and passing other arguments without an explicit keyword will result in an error or misinterpretation.\n",
      "  FutureWarning\n"
     ]
    },
    {
     "data": {
      "image/png": "[encoded data removed]",
      "text/plain": [
       "<Figure size 432x288 with 1 Axes>"
      ]
     },
     "metadata": {},
     "output_type": "display_data"
    }
   ],
   "source": [
    "sns.set_style(\"darkgrid\")\n",
    "sns.countplot(cong_tweets_data['party_id'],palette= ['red',\"blue\"])  #Plotting Party ID distribution\n",
    "plt.show()"
   ]
  },
  {
   "cell_type": "markdown",
   "metadata": {},
   "source": [
    "### Extracting most used hashtags for each party : Demcoratic & Republican"
   ]
  },
  {
   "cell_type": "code",
   "execution_count": 20,
   "metadata": {},
   "outputs": [],
   "source": [
    "hashtags_list_rep = [] \n",
    "hashtags_list_dem = []"
   ]
  },
  {
   "cell_type": "code",
   "execution_count": 21,
   "metadata": {},
   "outputs": [],
   "source": [
    "cong_tweets_data= cong_tweets_data.reset_index(drop=True)  \n",
    "for n in range(len(cong_tweets_data['hashtags'])):\n",
    "    #print(n)\n",
    "    if cong_tweets_data['party_id'][n]=='R': \n",
    "        hashtags_list_rep.append(cong_tweets_data['hashtags'][n])  #Adding Republican Hashtags to the list \n",
    "    else:\n",
    "        hashtags_list_dem.append(cong_tweets_data['hashtags'][n])  #Adding Democratican Hashtags to the list"
   ]
  },
  {
   "cell_type": "code",
   "execution_count": 22,
   "metadata": {},
   "outputs": [
    {
     "data": {
      "text/plain": [
       "Text(0.5, 1.0, \"Democrats' 10 most used hashtags\")"
      ]
     },
     "execution_count": 22,
     "metadata": {},
     "output_type": "execute_result"
    },
    {
     "data": {
      "image/png": "[encoded data removed]",
      "text/plain": [
       "<Figure size 864x432 with 1 Axes>"
      ]
     },
     "metadata": {},
     "output_type": "display_data"
    }
   ],
   "source": [
    "#Plotting top 10 Hashtags used by Democrats \n",
    "top_hashtags_dem = Series(hashtags_list_dem).value_counts().head(n=10)  #Counting unique hashtags and fetching top 10\n",
    "sns.set_style(\"white\")\n",
    "sns.set(font_scale=1.4)\n",
    "plt.figure(figsize=(12,6))\n",
    "sns.barplot(x=top_hashtags_dem, y=top_hashtags_dem.index,  orient='h', palette=\"Blues_r\").set_title(\"Democrats' 10 most used hashtags\")"
   ]
  },
  {
   "cell_type": "code",
   "execution_count": 23,
   "metadata": {},
   "outputs": [
    {
     "data": {
      "text/plain": [
       "Text(0.5, 1.0, \"Republicans' 10 most used hashtags\")"
      ]
     },
     "execution_count": 23,
     "metadata": {},
     "output_type": "execute_result"
    },
    {
     "data": {
      "image/png": "[encoded data removed]",
      "text/plain": [
       "<Figure size 864x432 with 1 Axes>"
      ]
     },
     "metadata": {},
     "output_type": "display_data"
    }
   ],
   "source": [
    "#Plotting top 10 Hashtags used by Republican\n",
    "top_hashtags_rep = Series(hashtags_list_rep).value_counts().head(n=10) #Counting unique hashtags and fetching top 10\n",
    "sns.set_style(\"white\")\n",
    "sns.set(font_scale=1.4)\n",
    "plt.figure(figsize=(12, 6))\n",
    "sns.barplot(x=top_hashtags_rep, y=top_hashtags_rep.index, orient='h', palette=\"Reds_r\").set_title(\"Republicans' 10 most used hashtags\")"
   ]
  },
  {
   "cell_type": "markdown",
   "metadata": {},
   "source": [
    "### Subsetting the data into different parties"
   ]
  },
  {
   "cell_type": "code",
   "execution_count": 24,
   "metadata": {},
   "outputs": [
    {
     "name": "stdout",
     "output_type": "stream",
     "text": [
      "Republic Tweets Shape (268601, 14)\n",
      "Democratic Tweets Shape (324202, 14)\n"
     ]
    }
   ],
   "source": [
    "republic_tweets_df = cong_tweets_data[cong_tweets_data[\"party_id\"]==\"R\"]  \n",
    "democratic_tweets_df = cong_tweets_data[cong_tweets_data[\"party_id\"]==\"D\"]\n",
    "print(\"Republic Tweets Shape\",republic_tweets_df.shape)\n",
    "print(\"Democratic Tweets Shape\",democratic_tweets_df.shape)"
   ]
  },
  {
   "cell_type": "markdown",
   "metadata": {},
   "source": [
    "### Combining all the tweets together for the parties"
   ]
  },
  {
   "cell_type": "code",
   "execution_count": 25,
   "metadata": {},
   "outputs": [],
   "source": [
    "democrat_tweets=\" \".join(democratic_tweets_df[\"Cleaned_Text_WO_Stopwords\"].values.tolist()).split(\" \")\n",
    "republican_tweets=\" \".join(republic_tweets_df[\"Cleaned_Text_WO_Stopwords\"].values.tolist()).split(\" \")"
   ]
  },
  {
   "cell_type": "code",
   "execution_count": 26,
   "metadata": {},
   "outputs": [
    {
     "name": "stdout",
     "output_type": "stream",
     "text": [
      "Democrat tweets word length: 4499945\n",
      "Republican tweets word length: 3179189\n"
     ]
    }
   ],
   "source": [
    "print(\"Democrat tweets word length:\",len(democrat_tweets))\n",
    "print(\"Republican tweets word length:\",len(republican_tweets))"
   ]
  },
  {
   "cell_type": "markdown",
   "metadata": {},
   "source": [
    "### Frequency of Usage of Words by Parties"
   ]
  },
  {
   "cell_type": "code",
   "execution_count": 27,
   "metadata": {},
   "outputs": [],
   "source": [
    "#FreqDist records the number of times each words are used. \n",
    "fdist_democrat = FreqDist(democrat_tweets)\n",
    "fdist_republican=FreqDist(republican_tweets)"
   ]
  },
  {
   "cell_type": "code",
   "execution_count": 28,
   "metadata": {},
   "outputs": [
    {
     "name": "stdout",
     "output_type": "stream",
     "text": [
      "Frequency of Words : Democrat\n"
     ]
    },
    {
     "data": {
      "text/plain": [
       "FreqDist({'health': 22161, 'american': 19673, 'woman': 17791, 'family': 17749, 'care': 16618, 'right': 16111, 'make': 16095, 'trump': 15530, 'house': 14736, 'country': 12812, ...})"
      ]
     },
     "execution_count": 28,
     "metadata": {},
     "output_type": "execute_result"
    }
   ],
   "source": [
    "print(\"Frequency of Words : Democrat\")\n",
    "fdist_democrat"
   ]
  },
  {
   "cell_type": "code",
   "execution_count": 29,
   "metadata": {},
   "outputs": [
    {
     "name": "stdout",
     "output_type": "stream",
     "text": [
      "Frequency of Words : Republican\n"
     ]
    },
    {
     "data": {
      "text/plain": [
       "FreqDist({'house': 12357, 'tax': 8346, 'president': 8090, 'american': 8076, 'see': 7854, 'life': 7548, 'happy': 7462, 'job': 7348, 'watch': 7140, 'family': 7051, ...})"
      ]
     },
     "execution_count": 29,
     "metadata": {},
     "output_type": "execute_result"
    }
   ],
   "source": [
    "print(\"Frequency of Words : Republican\")\n",
    "fdist_republican"
   ]
  },
  {
   "cell_type": "code",
   "execution_count": 30,
   "metadata": {},
   "outputs": [],
   "source": [
    "Dem_freqw=Series(fdist_democrat).sort_values(ascending=False).head(15)\n",
    "Rep_freqw=Series(fdist_republican).sort_values(ascending=False).head(15)"
   ]
  },
  {
   "cell_type": "code",
   "execution_count": 31,
   "metadata": {},
   "outputs": [
    {
     "data": {
      "text/plain": [
       "Text(0.5, 1.0, \"Democrats' 15 most used words\")"
      ]
     },
     "execution_count": 31,
     "metadata": {},
     "output_type": "execute_result"
    },
    {
     "data": {
      "image/png": "[encoded data removed]",
      "text/plain": [
       "<Figure size 864x432 with 1 Axes>"
      ]
     },
     "metadata": {},
     "output_type": "display_data"
    }
   ],
   "source": [
    "sns.set_style(\"white\")\n",
    "sns.set(font_scale=1.2)\n",
    "plt.figure(figsize=(12,6))\n",
    "sns.barplot(x=Dem_freqw.index, y=Dem_freqw).set_title(\"Democrats' 15 most used words\")"
   ]
  },
  {
   "cell_type": "code",
   "execution_count": 32,
   "metadata": {},
   "outputs": [
    {
     "data": {
      "text/plain": [
       "Text(0.5, 1.0, \"Republicans' 15 most used words\")"
      ]
     },
     "execution_count": 32,
     "metadata": {},
     "output_type": "execute_result"
    },
    {
     "data": {
      "image/png": "[encoded data removed]",
      "text/plain": [
       "<Figure size 864x432 with 1 Axes>"
      ]
     },
     "metadata": {},
     "output_type": "display_data"
    }
   ],
   "source": [
    "sns.set_style(\"white\")\n",
    "sns.set(font_scale=1.2)\n",
    "plt.figure(figsize=(12,6))\n",
    "sns.barplot(x=Rep_freqw.index, y=Rep_freqw).set_title(\"Republicans' 15 most used words\")"
   ]
  },
  {
   "cell_type": "markdown",
   "metadata": {},
   "source": [
    "### Creating wordcloud for full original data"
   ]
  },
  {
   "cell_type": "code",
   "execution_count": null,
   "metadata": {},
   "outputs": [],
   "source": [
    "text_wc(cong_tweets_data[\"full_text\"],\"Original Tweets Wordcloud\")"
   ]
  },
  {
   "cell_type": "code",
   "execution_count": null,
   "metadata": {},
   "outputs": [],
   "source": [
    "text_wc(cong_tweets_data[\"Cleaned_Text_With_Stopwords\"],\"Cleaned Tweets Wordcloud for all Parties\")"
   ]
  },
  {
   "cell_type": "code",
   "execution_count": null,
   "metadata": {},
   "outputs": [],
   "source": [
    "text_wc(cong_tweets_data[\"Cleaned_Text_WO_Stopwords\"],\"Cleaned Tweets Wordcloud without Stopwords for all Parties\")"
   ]
  },
  {
   "cell_type": "code",
   "execution_count": null,
   "metadata": {},
   "outputs": [],
   "source": [
    "custom_sw = [\"today\",\"thank\",\"need\",\"small\",\"business\"]"
   ]
  },
  {
   "cell_type": "code",
   "execution_count": null,
   "metadata": {},
   "outputs": [],
   "source": [
    "text_wc(republic_tweets_df[\"full_text\"],\"Republican Tweets Wordcloud\")"
   ]
  },
  {
   "cell_type": "code",
   "execution_count": null,
   "metadata": {},
   "outputs": [],
   "source": [
    "text_wc(republic_tweets_df[\"Cleaned_Text_With_Stopwords\"],\"Cleaned Tweets Wordcloud for Republican Party\")"
   ]
  },
  {
   "cell_type": "code",
   "execution_count": null,
   "metadata": {},
   "outputs": [],
   "source": [
    "text_wc(republic_tweets_df[\"Cleaned_Text_WO_Stopwords\"],\"Cleaned Tweets Wordcloud without Stopwords for Republican Party\")"
   ]
  },
  {
   "cell_type": "code",
   "execution_count": null,
   "metadata": {},
   "outputs": [],
   "source": [
    "text_wc(democratic_tweets_df[\"full_text\"],\"Democratican Tweets Wordcloud\")"
   ]
  },
  {
   "cell_type": "code",
   "execution_count": null,
   "metadata": {},
   "outputs": [],
   "source": [
    "text_wc(democratic_tweets_df[\"Cleaned_Text_With_Stopwords\"],\"Cleaned Tweets Wordcloud for Democratican Party\")"
   ]
  },
  {
   "cell_type": "code",
   "execution_count": null,
   "metadata": {},
   "outputs": [],
   "source": [
    "text_wc(democratic_tweets_df[\"Cleaned_Text_WO_Stopwords\"],\"Cleaned Tweets Wordcloud without Stopwords for Democratican Party\")"
   ]
  },
  {
   "cell_type": "code",
   "execution_count": null,
   "metadata": {},
   "outputs": [],
   "source": [
    "\n",
    "fig, axs = plt.subplots(1, 3,figsize=(15,7))\n",
    "\n",
    "sns.histplot(ax = axs[0],data=cong_tweets_data, x=\"Tweets_Length\", kde=True)\n",
    "axs[0].set_title(\"Original Tweets Character Length\")\n",
    "sns.histplot(ax = axs[1],data=cong_tweets_data, x=\"Cleaned_Tweets_With_SW_Length\", kde=True)\n",
    "axs[1].set_title(\"Cleaned Tweets with Stopwords Character Length\")\n",
    "sns.histplot(ax = axs[2],data=cong_tweets_data, x=\"Cleaned_Tweets_WO_Stopwords_Length\", kde=True)\n",
    "axs[2].set_title(\"Cleaned Tweets without Stopwords Character Length\")\n",
    "plt.show()"
   ]
  },
  {
   "cell_type": "code",
   "execution_count": null,
   "metadata": {},
   "outputs": [],
   "source": [
    "\n",
    "fig, axs = plt.subplots(1, 3,figsize=(15,7))\n",
    "\n",
    "sns.histplot(ax = axs[0],data=republic_tweets_df, x=\"Tweets_Length\", kde=True)\n",
    "axs[0].set_title(\"Tweets Length Distribution for Republican\")\n",
    "sns.histplot(ax = axs[1],data=republic_tweets_df, x=\"Cleaned_Tweets_With_SW_Length\", kde=True)\n",
    "axs[1].set_title(\"Cleaned Tweets Character Length Distribution for Republican\")\n",
    "sns.histplot(ax = axs[2],data=republic_tweets_df, x=\"Cleaned_Tweets_WO_Stopwords_Length\", kde=True)\n",
    "axs[2].set_title(\"Cleaned Tweets without Stopwords Character Length\")\n",
    "plt.show()"
   ]
  },
  {
   "cell_type": "code",
   "execution_count": null,
   "metadata": {},
   "outputs": [],
   "source": [
    "\n",
    "fig, axs = plt.subplots(1, 3,figsize=(20,7))\n",
    "\n",
    "sns.histplot(ax = axs[0],data=democratic_tweets_df, x=\"Tweets_Length\", kde=True)\n",
    "axs[0].set_title(\"Tweets Length Distribution for Democratic\")\n",
    "sns.histplot(ax = axs[1],data=democratic_tweets_df, x=\"Cleaned_Tweets_With_SW_Length\", kde=True)\n",
    "axs[1].set_title(\"Cleaned Tweets Character Length Distribution for Democratics\")\n",
    "sns.histplot(ax = axs[2],data=democratic_tweets_df, x=\"Cleaned_Tweets_WO_Stopwords_Length\", kde=True)\n",
    "axs[2].set_title(\"Cleaned Tweets without Stopwords Character Length for Democratican\")\n",
    "plt.show()"
   ]
  },
  {
   "cell_type": "code",
   "execution_count": null,
   "metadata": {},
   "outputs": [],
   "source": [
    "\n",
    "fig, axs = plt.subplots(1, 3,figsize=(20,7))\n",
    "\n",
    "sns.histplot(ax = axs[0],data=cong_tweets_data, x=\"Full_Text_Words\", kde=True)\n",
    "axs[0].set_title(\"Tweets Words Distribution for All Parties\")\n",
    "sns.histplot(ax = axs[1],data=cong_tweets_data, x=\"Words_Cleaned_Text_With_Stopwords\", kde=True)\n",
    "axs[1].set_title(\"Cleaned Tweets Words Distribution for All Parties\")\n",
    "sns.histplot(ax = axs[2],data=cong_tweets_data, x=\"Words_Cleaned_Text_Without_Stopwords\", kde=True)\n",
    "axs[2].set_title(\"Cleaned Tweets without Stopwords Words Dsitribution for All Parties\")\n",
    "plt.show()"
   ]
  },
  {
   "cell_type": "code",
   "execution_count": null,
   "metadata": {},
   "outputs": [],
   "source": [
    "\n",
    "fig, axs = plt.subplots(1, 3,figsize=(20,7))\n",
    "\n",
    "sns.histplot(ax = axs[0],data=republic_tweets_df, x=\"Full_Text_Words\", kde=True)\n",
    "axs[0].set_title(\"Tweets Words Distribution for Republican\")\n",
    "sns.histplot(ax = axs[1],data=republic_tweets_df, x=\"Words_Cleaned_Text_With_Stopwords\", kde=True)\n",
    "axs[1].set_title(\"Cleaned Tweets Words Distribution for Republican\")\n",
    "sns.histplot(ax = axs[2],data=republic_tweets_df, x=\"Words_Cleaned_Text_Without_Stopwords\", kde=True)\n",
    "axs[2].set_title(\"Cleaned Tweets without Stopwords Words Dsitribution for Republican\")\n",
    "plt.show()"
   ]
  },
  {
   "cell_type": "code",
   "execution_count": null,
   "metadata": {},
   "outputs": [],
   "source": [
    "\n",
    "fig, axs = plt.subplots(1, 3,figsize=(20,7))\n",
    "\n",
    "sns.histplot(ax = axs[0],data=democratic_tweets_df, x=\"Full_Text_Words\", kde=True)\n",
    "axs[0].set_title(\"Tweets Words Distribution for Democratic Party\")\n",
    "sns.histplot(ax = axs[1],data=democratic_tweets_df, x=\"Words_Cleaned_Text_With_Stopwords\", kde=True)\n",
    "axs[1].set_title(\"Cleaned Tweets Words Distribution for Democratic Party\")\n",
    "sns.histplot(ax = axs[2],data=democratic_tweets_df, x=\"Words_Cleaned_Text_Without_Stopwords\", kde=True)\n",
    "axs[2].set_title(\"Cleaned Tweets without Stopwords Words Distribution for Democratic Party\")\n",
    "plt.show()"
   ]
  },
  {
   "cell_type": "markdown",
   "metadata": {},
   "source": [
    "### Temporal Analysis of Tweets"
   ]
  },
  {
   "cell_type": "code",
   "execution_count": null,
   "metadata": {},
   "outputs": [],
   "source": [
    "sns.set(font_scale=1.2)\n",
    "plt.figure(figsize=(12,6))\n",
    "year_tweets = cong_tweets_data.groupby('year').count()\n",
    "year_tweets.reset_index(inplace=True)\n",
    "sns.lineplot(x='year', y='retweet_count', data=year_tweets);\n",
    "plt.xlabel(\"year\")\n",
    "plt.ylabel(\"Number of Tweets\")\n",
    "plt.title(\"Tweets Distribution Year Wise for all parties\")"
   ]
  },
  {
   "cell_type": "code",
   "execution_count": null,
   "metadata": {},
   "outputs": [],
   "source": [
    "sns.set(font_scale=1.2)\n",
    "plt.figure(figsize=(12,6))\n",
    "rep_year_tweets = republic_tweets_df.groupby('year').count()\n",
    "rep_year_tweets.reset_index(inplace=True)\n",
    "sns.lineplot(x='year', y='retweet_count', data=rep_year_tweets);\n",
    "plt.xlabel(\"year\")\n",
    "plt.ylabel(\"Number of Tweets\")\n",
    "plt.title(\"Tweets Distribution Year Wise for Republic Party\")"
   ]
  },
  {
   "cell_type": "code",
   "execution_count": null,
   "metadata": {},
   "outputs": [],
   "source": [
    "sns.set(font_scale=1.2)\n",
    "plt.figure(figsize=(12,6))\n",
    "dem_year_tweets = democratic_tweets_df.groupby('year').count()\n",
    "dem_year_tweets.reset_index(inplace=True)\n",
    "sns.lineplot(x='year', y='retweet_count', data=dem_year_tweets);\n",
    "plt.xlabel(\"year\")\n",
    "plt.ylabel(\"Number of Tweets\")\n",
    "plt.title(\"Tweets Distribution Year Wise for Democratic Party\")"
   ]
  },
  {
   "cell_type": "code",
   "execution_count": null,
   "metadata": {},
   "outputs": [],
   "source": [
    "years = list(cong_tweets_data[\"year\"].dropna().unique())\n",
    "years.sort()\n",
    "print(years)\n",
    "num_years = len(years)"
   ]
  },
  {
   "cell_type": "code",
   "execution_count": null,
   "metadata": {},
   "outputs": [],
   "source": [
    "frows = math.ceil(num_years/3)\n",
    "fig, axs = plt.subplots(frows, 3,figsize=(15,15))\n",
    "fig.suptitle(\"Yearwise Wordclouds\")\n",
    "ctr_index = 0\n",
    "for i in range(frows):\n",
    "    for j in range(3):\n",
    "        if ctr_index<num_years:\n",
    "            year_val= years[ctr_index]\n",
    "            year_tweets = cong_tweets_data[cong_tweets_data[\"year\"]==year_val]\n",
    "            tweets_text = \" \".join(year_tweets[\"Cleaned_Text_WO_Stopwords\"].values.tolist())  #Converting the column text t \n",
    "\n",
    "            tweet_wc = WordCloud(background_color=\"white\").generate(tweets_text)  #Wordcloud Object\n",
    "            title = \"Year: \"+str(year_val)\n",
    "            axs[i,j].imshow(tweet_wc, interpolation='bilinear')  \n",
    "            axs[i,j].axis(\"off\")\n",
    "            axs[i,j].set_title(title)\n",
    "            ctr_index = ctr_index+1\n",
    "        else:\n",
    "            break\n",
    "plt.show()"
   ]
  },
  {
   "cell_type": "code",
   "execution_count": null,
   "metadata": {},
   "outputs": [],
   "source": []
  },
  {
   "cell_type": "markdown",
   "metadata": {},
   "source": [
    "## Model Building"
   ]
  },
  {
   "cell_type": "code",
   "execution_count": null,
   "metadata": {},
   "outputs": [],
   "source": [
    "pattern = re.compile(r\"[A-Z][a-z]+|\\d+|[A-Z]+(?![a-z])\")\n",
    "\n",
    "def split_hashtag(tag):\n",
    "    return pattern.findall(tag)\n",
    "\n",
    "train_data['hashtags_split'] =[split_hashtag(i) for i in train_data['hashtags']]\n",
    "\n",
    "train_data['hashtags_split'] = train_data['hashtags_split'].apply(lambda x: ' '.join(i for i in x))\n",
    "\n",
    "train_data['new1'] = train_data['full_text'] +' '+  train_data['hashtags_split'] \n",
    "\n",
    "train_data[\"Cleaned_Text_WO_Stopwords\"] = train_data.apply(lambda x:clean_tweets(x['new1'],1),axis=1)"
   ]
  },
  {
   "cell_type": "code",
   "execution_count": null,
   "metadata": {},
   "outputs": [],
   "source": [
    "original_data = cong_tweets_data.copy()\n",
    "#cong_tweets_data = cong_tweets_data[(cong_tweets_data[\"Words_Cleaned_Text_Without_Stopwords\"] <32)] "
   ]
  },
  {
   "cell_type": "code",
   "execution_count": null,
   "metadata": {},
   "outputs": [],
   "source": [
    "label_encoder = preprocessing.LabelEncoder()\n",
    " \n",
    "# Encode labels in column 'species'.\n",
    "cong_tweets_data['encoded_party']= label_encoder.fit_transform(cong_tweets_data[\"party_id\"])"
   ]
  },
  {
   "cell_type": "code",
   "execution_count": null,
   "metadata": {},
   "outputs": [],
   "source": [
    "X_train, X_test, y_train, y_test = train_test_split(cong_tweets_data[\"Cleaned_Text_WO_Stopwords\"],cong_tweets_data[\"encoded_party\"],test_size=0.2,shuffle=True)"
   ]
  },
  {
   "cell_type": "code",
   "execution_count": null,
   "metadata": {},
   "outputs": [],
   "source": [
    "tfidf_vectorizer12 = TfidfVectorizer(lowercase=True, ngram_range=(1, 2)) #object for ngram_range(1,1)\n",
    "X_train_vectors_tfidf_12 = tfidf_vectorizer12.fit_transform(X_train) \n",
    "X_test_vectors_tfidf_12 = tfidf_vectorizer12.transform(X_test)\n",
    "print(X_train_vectors_tfidf_12.shape)\n",
    "print(X_test_vectors_tfidf_12.shape)"
   ]
  },
  {
   "cell_type": "markdown",
   "metadata": {},
   "source": [
    "### Naive Bayes Model"
   ]
  },
  {
   "cell_type": "code",
   "execution_count": null,
   "metadata": {},
   "outputs": [],
   "source": [
    "nb_clf = MultinomialNB()\n",
    "tfidf_vect_nb_model = nb_clf.fit(X_train_vectors_tfidf_12,y_train)\n",
    "tfidf_vect_nb_predictions = tfidf_vect_nb_model.predict(X_test_vectors_tfidf_12)\n",
    "tfidf_vect1_accuracy = accuracy_score(y_test,tfidf_vect_nb_predictions)\n",
    "#y_prob = tfidf_vect_nb_model.predict_proba(X_test_vectors_tfidf)[:,1]\n",
    "print(classification_report(y_test,tfidf_vect_nb_predictions))\n",
    "print('Confusion Matrix:',confusion_matrix(y_test, tfidf_vect_nb_predictions))"
   ]
  },
  {
   "cell_type": "markdown",
   "metadata": {},
   "source": [
    "### Logistic Regression "
   ]
  },
  {
   "cell_type": "code",
   "execution_count": null,
   "metadata": {},
   "outputs": [],
   "source": [
    "#print(s,\"\\n\")\n",
    "#print(c,\"\\n\")\n",
    "lr_clf = LogisticRegression(solver = \"liblinear\",C = 20,penalty = 'l2')\n",
    "tfidf_vect_lr_model = lr_clf.fit(X_train_vectors_tfidf_12,y_train)\n",
    "tfidf_vect_lr_predictions = tfidf_vect_lr_model.predict(X_test_vectors_tfidf_12)\n",
    "tfidf_vect_lr_accuracy = accuracy_score(y_test,tfidf_vect_lr_predictions)\n",
    "y_prob = tfidf_vect_lr_model.predict_proba(X_test_vectors_tfidf_12)[:,1]\n",
    "print(\"\\n\",classification_report(y_test,tfidf_vect_lr_predictions))\n",
    "print('Confusion Matrix:\\n',confusion_matrix(y_test, tfidf_vect_lr_predictions))"
   ]
  },
  {
   "cell_type": "markdown",
   "metadata": {},
   "source": [
    "### SVM with Linear Kernel"
   ]
  },
  {
   "cell_type": "code",
   "execution_count": null,
   "metadata": {},
   "outputs": [],
   "source": [
    "svc_clf = LinearSVC(random_state=265)\n",
    "tfidf_vect_svc_model = svc_clf.fit(X_train_vectors_tfidf_12,y_train)\n",
    "tfidf_vect_svc_predictions = tfidf_vect_svc_model.predict(X_test_vectors_tfidf_12)\n",
    "tfidf_vect_svc_accuracy = accuracy_score(y_test,tfidf_vect_svc_predictions)\n",
    "#y_prob = tfidf_vect_lr_model.predict_proba(X_test_vectors_tfidf)[:,1]\n",
    "print(\"\\n\",classification_report(y_test,tfidf_vect_svc_predictions))\n",
    "print('Confusion Matrix:\\n',confusion_matrix(y_test, tfidf_vect_svc_predictions))"
   ]
  },
  {
   "cell_type": "markdown",
   "metadata": {},
   "source": [
    "### Random Forest Model"
   ]
  },
  {
   "cell_type": "code",
   "execution_count": null,
   "metadata": {},
   "outputs": [],
   "source": [
    "rf_clf_12 = RandomForestClassifier(n_estimators = 10, random_state = 42,max_depth = 10,class_weight = \"balanced\")\n",
    "tfidf12_vect_rf_model = rf_clf_12.fit(X_train_vectors_tfidf_12,y_train)\n",
    "tfidf12_vect_rf_predictions = tfidf12_vect_rf_model.predict(X_test_vectors_tfidf_12)\n",
    "#tfidf12_vect_rf_accuracy = accuracy_score(y_test,tfidf_vect_rf_predictions)\n",
    "#y_prob = tfidf_vect_rf_model.predict_proba(X_test_vectors_tfidf)[:,1]\n",
    "print(classification_report(y_test,tfidf12_vect_rf_predictions))\n",
    "print('Confusion Matrix:',confusion_matrix(y_test, tfidf12_vect_rf_predictions))"
   ]
  },
  {
   "cell_type": "markdown",
   "metadata": {},
   "source": [
    "## Topic Modelling Using LDA"
   ]
  },
  {
   "cell_type": "code",
   "execution_count": null,
   "metadata": {},
   "outputs": [],
   "source": [
    "cong_tweets_data['Cleaned_Text_WO_Stopwords'].dropna(inplace=True)\n",
    "docs = np.array(cong_tweets_data['Cleaned_Text_WO_Stopwords'])\n",
    "docs = [doc for doc in docs if str(doc) != 'nan']"
   ]
  },
  {
   "cell_type": "code",
   "execution_count": null,
   "metadata": {},
   "outputs": [],
   "source": [
    "def docs_preprocessor(docs):\n",
    "    tokenizer = RegexpTokenizer(r'\\w+')\n",
    "    print(len(docs))\n",
    "    for idx in range(len(docs)):\n",
    "        #print(idx)\n",
    "        #print(docs[idx])\n",
    "                #docs[idx] = [[word.lower() for word in docs[idx].split()] for line in data] # Convert to lowercase.\n",
    "        docs[idx] = tokenizer.tokenize(docs[idx])  # Split into words.\n",
    "        #print(docs[idx])\n",
    "            # Remove numbers, but not words that contain numbers.\n",
    "    docs_token = [[token.lower() for token in doc if not token.isdigit()] for doc in docs]\n",
    "\n",
    "            # Remove words that are only one character.\n",
    "    docs = [[token for token in doc if len(token) > 3] for doc in docs]\n",
    "\n",
    "            # Lemmatize all words in documents.\n",
    "    lemmatizer = WordNetLemmatizer()\n",
    "    docs = [[lemmatizer.lemmatize(token) for token in doc] for doc in docs]\n",
    "\n",
    "    return docs"
   ]
  },
  {
   "cell_type": "code",
   "execution_count": null,
   "metadata": {},
   "outputs": [],
   "source": [
    "docs = docs_preprocessor(docs)"
   ]
  },
  {
   "cell_type": "code",
   "execution_count": null,
   "metadata": {},
   "outputs": [],
   "source": [
    "# Create a dictionary representation of the documents.\n",
    "dictionary = Dictionary(docs)\n",
    "print('Number of unique words in initital documents:', len(dictionary))\n",
    "\n",
    "# Filter out words that occur less than 10 documents, or more than 20% of the documents.\n",
    "dictionary.filter_extremes(no_below=10, no_above=0.2)\n",
    "print('Number of unique words after removing rare and common words:', len(dictionary))\n",
    "\n",
    "corpus = [dictionary.doc2bow(doc) for doc in docs]\n",
    "print('Number of unique tokens: %d' % len(dictionary))\n",
    "print('Number of documents: %d' % len(corpus))"
   ]
  },
  {
   "cell_type": "code",
   "execution_count": null,
   "metadata": {},
   "outputs": [],
   "source": [
    "import time\n",
    "# Set training parameters.\n",
    "num_topics = range(5,6)\n",
    "chunksize = 100 # size of the doc looked at every pass\n",
    "passes = 20 # number of passes through documents\n",
    "iterations = 400\n",
    "eval_every = 1  # Don't evaluate model perplexity, takes too much time.\n",
    "\n",
    "for num in num_topics:\n",
    "    print(num)\n",
    "    # Make a index to word dictionary.\n",
    "    if len(dictionary)>0:\n",
    "        temp = dictionary[0]  # This is only to \"load\" the dictionary.\n",
    "        start = time.time()\n",
    "        id2word = dictionary.id2token\n",
    "        model = LdaModel(corpus=corpus, id2word=id2word, chunksize=chunksize,alpha='auto', eta='auto', iterations=iterations, num_topics=num,passes=passes, eval_every=eval_every)\n",
    "        end = time.time()\n",
    "        print(end-start)\n",
    "        time_taken = end-start\n",
    "\n",
    "        Y = model.print_topics(num_words = 10)\n",
    "        topic_words_list = []\n",
    "        for i in range(0,len(Y)):\n",
    "            topic_words_list.append(\"Topic \"+str(i+1)+\": \")\n",
    "            X = Y[i][1]\n",
    "            a = X.split(\"+\")\n",
    "            words_str = \"\"\n",
    "            for j in range(0,len(a)):\n",
    "                p = a[j].split(\"*\")[1].replace(\"\\\"\",\"\")\n",
    "                words_str += p\n",
    "            topic_words_list.append(words_str)\n",
    "\n",
    "        perplexity = model.log_perplexity(corpus)\n",
    "        coherence_model_lda = CoherenceModel(model=model, texts=docs, dictionary=dictionary, coherence='c_v')\n",
    "        coherence_lda = coherence_model_lda.get_coherence()\n"
   ]
  },
  {
   "cell_type": "code",
   "execution_count": null,
   "metadata": {},
   "outputs": [],
   "source": [
    "topic_words_list"
   ]
  },
  {
   "cell_type": "markdown",
   "metadata": {},
   "source": [
    "## LSTM Implementation "
   ]
  },
  {
   "cell_type": "code",
   "execution_count": null,
   "metadata": {},
   "outputs": [],
   "source": [
    "# The maximum number of words to be used. (most frequent)\n",
    "MAX_NB_WORDS = 40000\n",
    "# Max number of words in each complaint.\n",
    "MAX_SEQUENCE_LENGTH = 70\n",
    "# This is fixed.\n",
    "EMBEDDING_DIM = 500\n",
    "tokenizer = Tokenizer(num_words=MAX_NB_WORDS, filters='!\"#$%&()*+,-./:;<=>?@[\\]^_`{|}~', lower=True)\n",
    "tokenizer.fit_on_texts(X_train.values)\n",
    "word_index = tokenizer.word_index\n",
    "print('Found %s unique tokens.' % len(word_index))"
   ]
  },
  {
   "cell_type": "code",
   "execution_count": null,
   "metadata": {},
   "outputs": [],
   "source": [
    "X = tokenizer.texts_to_sequences(X_train.values)\n",
    "X = sequence.pad_sequences(X, maxlen=MAX_SEQUENCE_LENGTH)\n",
    "print('Shape of data tensor:', X.shape)"
   ]
  },
  {
   "cell_type": "code",
   "execution_count": null,
   "metadata": {},
   "outputs": [],
   "source": [
    "Y = y_train.values\n",
    "print('Shape of label tensor:', Y.shape)\n",
    "Y = Y.reshape(-1,1)"
   ]
  },
  {
   "cell_type": "code",
   "execution_count": null,
   "metadata": {},
   "outputs": [],
   "source": [
    "model = Sequential()\n",
    "model.add(Embedding(MAX_NB_WORDS, EMBEDDING_DIM, input_length=X.shape[1]))\n",
    "model.add(SpatialDropout1D(0.2))\n",
    "model.add(LSTM(100, dropout=0.2, recurrent_dropout=0.2))\n",
    "model.add(Dense(1, activation='sigmoid'))\n",
    "model.compile(loss='binary_crossentropy', optimizer='adam', metrics=['accuracy'])\n",
    "\n",
    "epochs = 2\n",
    "batch_size = 64\n",
    "\n",
    "history = model.fit(X, Y, epochs=epochs, batch_size=batch_size,validation_split=0.3,callbacks=[EarlyStopping(monitor='val_loss', patience=3, min_delta=0.0001)])\n"
   ]
  },
  {
   "cell_type": "code",
   "execution_count": null,
   "metadata": {},
   "outputs": [],
   "source": [
    "cong_testing_data[\"Cleaned_Text_WO_Stopwords\"] = cong_testing_data.apply(lambda x:clean_tweets(x['full_text'],1),axis=1)\n",
    "cong_testing_data"
   ]
  },
  {
   "cell_type": "code",
   "execution_count": null,
   "metadata": {},
   "outputs": [],
   "source": [
    "test_data = tfidf_vectorizer12.transform(cong_testing_data[\"Cleaned_Text_WO_Stopwords\"])\n",
    "print(test_data.shape)"
   ]
  },
  {
   "cell_type": "code",
   "execution_count": null,
   "metadata": {},
   "outputs": [],
   "source": [
    "test_pedictions = svc_clf.predict(test_data)\n",
    "prediction_labels = label_encoder.inverse_transform(test_pedictions)"
   ]
  },
  {
   "cell_type": "code",
   "execution_count": null,
   "metadata": {},
   "outputs": [],
   "source": [
    "submissions_df = pd.DataFrame()\n",
    "submissions_df[\"Id\"] = cong_testing_data[\"Id\"]\n",
    "submissions_df[\"party\"] = prediction_labels\n",
    "submissions_df.to_csv(\"sample_submission_v1.csv\",index=False)"
   ]
  }
 ],
 "metadata": {
  "kernelspec": {
   "display_name": "Python 3",
   "language": "python",
   "name": "python3"
  },
  "language_info": {
   "codemirror_mode": {
    "name": "ipython",
    "version": 3
   },
   "file_extension": ".py",
   "mimetype": "text/x-python",
   "name": "python",
   "nbconvert_exporter": "python",
   "pygments_lexer": "ipython3",
   "version": "3.7.4"
  }
 },
 "nbformat": 4,
 "nbformat_minor": 2
}
